{
 "cells": [
  {
   "cell_type": "markdown",
   "id": "8f1edb50-6b2b-4097-8c59-f1cc66c10182",
   "metadata": {},
   "source": [
    "# Imran Noori\n",
    "## Notebook for Assignment 7\n"
   ]
  },
  {
   "cell_type": "code",
   "execution_count": 1,
   "id": "e5b8e15d-276d-4ff2-904d-670dc0c89adc",
   "metadata": {},
   "outputs": [
    {
     "name": "stdout",
     "output_type": "stream",
     "text": [
      "5.0\n"
     ]
    }
   ],
   "source": [
    "def compute_mean(values):\n",
    "    mean = sum(values) / len(values)\n",
    "    print(mean)\n",
    "\n",
    "compute_mean([2, 4, 6, 8])\n"
   ]
  },
  {
   "cell_type": "markdown",
   "id": "f448fd9a-d397-458c-90dc-11f33d1c5483",
   "metadata": {},
   "source": [
    "## Explanation of Code\n",
    "\n",
    "The provided code calculates the mean (\\( \\bar{x} \\)) of a given list of values. The mean is a measure of central tendency that represents the average value of the dataset.\n",
    "\n",
    "The code defines a Python function `compute_mean` that takes a list of values as input and computes the mean using the formula:\n",
    "\n"
   ]
  },
  {
   "cell_type": "code",
   "execution_count": null,
   "id": "08df9c43-6188-405b-91ec-a49f19fd50a4",
   "metadata": {},
   "outputs": [],
   "source": []
  }
 ],
 "metadata": {
  "kernelspec": {
   "display_name": "Python [conda env:test_env]",
   "language": "python",
   "name": "conda-env-test_env-py"
  },
  "language_info": {
   "codemirror_mode": {
    "name": "ipython",
    "version": 3
   },
   "file_extension": ".py",
   "mimetype": "text/x-python",
   "name": "python",
   "nbconvert_exporter": "python",
   "pygments_lexer": "ipython3",
   "version": "3.11.4"
  }
 },
 "nbformat": 4,
 "nbformat_minor": 5
}
